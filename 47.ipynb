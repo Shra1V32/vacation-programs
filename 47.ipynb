{
 "cells": [
  {
   "cell_type": "code",
   "execution_count": 1,
   "metadata": {},
   "outputs": [
    {
     "data": {
      "text/plain": [
       "[1,\n",
       " 2,\n",
       " 3,\n",
       " 4,\n",
       " 5,\n",
       " 6,\n",
       " 7,\n",
       " 9,\n",
       " 10,\n",
       " 12,\n",
       " 14,\n",
       " 15,\n",
       " 18,\n",
       " 20,\n",
       " 21,\n",
       " 28,\n",
       " 30,\n",
       " 35,\n",
       " 36,\n",
       " 42,\n",
       " 45,\n",
       " 49,\n",
       " 60,\n",
       " 63,\n",
       " 70,\n",
       " 84,\n",
       " 90,\n",
       " 98,\n",
       " 105,\n",
       " 126,\n",
       " 140,\n",
       " 147,\n",
       " 180,\n",
       " 196,\n",
       " 210,\n",
       " 245,\n",
       " 252,\n",
       " 294,\n",
       " 315,\n",
       " 420,\n",
       " 441,\n",
       " 490,\n",
       " 588,\n",
       " 630,\n",
       " 735,\n",
       " 882,\n",
       " 980,\n",
       " 1260,\n",
       " 1470,\n",
       " 1764,\n",
       " 2205,\n",
       " 2940,\n",
       " 4410]"
      ]
     },
     "execution_count": 1,
     "metadata": {},
     "output_type": "execute_result"
    }
   ],
   "source": [
    "def FindFactors(num):\n",
    "    sum = 0\n",
    "    for i in range(1,num+1):\n",
    "        if num%i == 0:\n",
    "            sum = sum+1\n",
    "    return k\n",
    "\n",
    "FindFactors(8820)"
   ]
  },
  {
   "cell_type": "code",
   "execution_count": null,
   "metadata": {},
   "outputs": [],
   "source": []
  }
 ],
 "metadata": {
  "kernelspec": {
   "display_name": "Python 3.10.6 64-bit",
   "language": "python",
   "name": "python3"
  },
  "language_info": {
   "codemirror_mode": {
    "name": "ipython",
    "version": 3
   },
   "file_extension": ".py",
   "mimetype": "text/x-python",
   "name": "python",
   "nbconvert_exporter": "python",
   "pygments_lexer": "ipython3",
   "version": "3.10.6"
  },
  "orig_nbformat": 4,
  "vscode": {
   "interpreter": {
    "hash": "e7370f93d1d0cde622a1f8e1c04877d8463912d04d973331ad4851f04de6915a"
   }
  }
 },
 "nbformat": 4,
 "nbformat_minor": 2
}
