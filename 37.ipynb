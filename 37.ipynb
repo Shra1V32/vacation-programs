{
 "cells": [
  {
   "cell_type": "code",
   "execution_count": 4,
   "metadata": {},
   "outputs": [
    {
     "name": "stdout",
     "output_type": "stream",
     "text": [
      "Please enter your 4 elements: \n",
      "Your elements are: \n",
      "43243\n",
      "2425\n",
      "3525\n",
      "3542\n",
      "2 5\n"
     ]
    }
   ],
   "source": [
    "l = []\n",
    "print(\"Please enter your 4 elements: \")\n",
    "for i in range(0,4):\n",
    "    l.append(int(input()))\n",
    "print(\"Your elements are: \")\n",
    "for i in l:\n",
    "    print(i)\n",
    "\n",
    "chars = []\n",
    "\n",
    "max = 0\n",
    "cha = \"\"\n",
    "\n",
    "for i in l:\n",
    "    for j in str(i):\n",
    "        chars.append(j)\n",
    "\n",
    "for i in chars:\n",
    "    if chars.count(i) > max:\n",
    "        max = chars.count(i)\n",
    "\n",
    "print(i,max)"
   ]
  },
  {
   "cell_type": "code",
   "execution_count": null,
   "metadata": {},
   "outputs": [],
   "source": []
  }
 ],
 "metadata": {
  "kernelspec": {
   "display_name": "Python 3.10.6 64-bit",
   "language": "python",
   "name": "python3"
  },
  "language_info": {
   "codemirror_mode": {
    "name": "ipython",
    "version": 3
   },
   "file_extension": ".py",
   "mimetype": "text/x-python",
   "name": "python",
   "nbconvert_exporter": "python",
   "pygments_lexer": "ipython3",
   "version": "3.10.6"
  },
  "orig_nbformat": 4,
  "vscode": {
   "interpreter": {
    "hash": "e7370f93d1d0cde622a1f8e1c04877d8463912d04d973331ad4851f04de6915a"
   }
  }
 },
 "nbformat": 4,
 "nbformat_minor": 2
}
