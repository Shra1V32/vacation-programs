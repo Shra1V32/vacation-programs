{
 "cells": [
  {
   "cell_type": "code",
   "execution_count": 3,
   "metadata": {},
   "outputs": [
    {
     "data": {
      "text/plain": [
       "4"
      ]
     },
     "execution_count": 3,
     "metadata": {},
     "output_type": "execute_result"
    }
   ],
   "source": [
    "def isPrime(num):\n",
    "    fact = 0\n",
    "    for i in range(2,num):\n",
    "        if num%i == 0:\n",
    "            fact = fact+1\n",
    "    if fact == 0:\n",
    "        #print(\"The given number is prime number\")\n",
    "        return True\n",
    "    else:\n",
    "        #print(\"The given number is not a prime number\")\n",
    "        return False\n",
    "\n",
    "def number_of_times_a_number_appeared_in_prime_series(range1,range2,key_num):\n",
    "    list = []\n",
    "    for i in range(range1,range2+1):\n",
    "        list.append(isPrime(i))\n",
    "    count = 0\n",
    "    number = range1 - 1\n",
    "    for i in list:\n",
    "        number = number +1\n",
    "        if i == True:\n",
    "            if str(key_num) in str(number):\n",
    "                count = count+1\n",
    "    return count\n",
    "\n",
    "number_of_times_a_number_appeared_in_prime_series(13,37,3)"
   ]
  },
  {
   "cell_type": "code",
   "execution_count": null,
   "metadata": {},
   "outputs": [],
   "source": []
  }
 ],
 "metadata": {
  "kernelspec": {
   "display_name": "Python 3.10.6 64-bit",
   "language": "python",
   "name": "python3"
  },
  "language_info": {
   "codemirror_mode": {
    "name": "ipython",
    "version": 3
   },
   "file_extension": ".py",
   "mimetype": "text/x-python",
   "name": "python",
   "nbconvert_exporter": "python",
   "pygments_lexer": "ipython3",
   "version": "3.10.6"
  },
  "orig_nbformat": 4,
  "vscode": {
   "interpreter": {
    "hash": "e7370f93d1d0cde622a1f8e1c04877d8463912d04d973331ad4851f04de6915a"
   }
  }
 },
 "nbformat": 4,
 "nbformat_minor": 2
}
