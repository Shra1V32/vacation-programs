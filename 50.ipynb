{
 "cells": [
  {
   "cell_type": "code",
   "execution_count": 56,
   "metadata": {},
   "outputs": [
    {
     "data": {
      "text/plain": [
       "(3935020174414971, 562949953421312)"
      ]
     },
     "execution_count": 56,
     "metadata": {},
     "output_type": "execute_result"
    }
   ],
   "source": [
    "# 5.65\n",
    "# 565/100\n",
    "\n",
    "def FindFactors(num):\n",
    "    k = []\n",
    "    sum = 0\n",
    "    for i in range(2,num):\n",
    "        if num%i == 0:\n",
    "            k.append(i)\n",
    "    return k\n",
    "\n",
    "\n",
    "def convertFloatToRatio(num):\n",
    "    k = str(num).split(\".\")\n",
    "    l = len(str(k[-1]))\n",
    "    frac1 = int(\"\".join(k))\n",
    "    frac2 = (10**l)\n",
    "    req = set(FindFactors(frac1)).intersection(set(FindFactors(frac2)))\n",
    "    try:\n",
    "        req = list(req)[-1]\n",
    "        return int(frac1/req),int(frac2/req)\n",
    "    except IndexError:\n",
    "        return num.as_integer_ratio()\n",
    "        # We can even barely use this function to return as ratio\n",
    "        # If we want a one-liner\n",
    "\n",
    "convertFloatToRatio(6.99)\n",
    "\n",
    "\n",
    "\n",
    "\n",
    "\n"
   ]
  },
  {
   "cell_type": "code",
   "execution_count": null,
   "metadata": {},
   "outputs": [],
   "source": []
  }
 ],
 "metadata": {
  "kernelspec": {
   "display_name": "Python 3.10.6 64-bit",
   "language": "python",
   "name": "python3"
  },
  "language_info": {
   "codemirror_mode": {
    "name": "ipython",
    "version": 3
   },
   "file_extension": ".py",
   "mimetype": "text/x-python",
   "name": "python",
   "nbconvert_exporter": "python",
   "pygments_lexer": "ipython3",
   "version": "3.10.6"
  },
  "orig_nbformat": 4,
  "vscode": {
   "interpreter": {
    "hash": "e7370f93d1d0cde622a1f8e1c04877d8463912d04d973331ad4851f04de6915a"
   }
  }
 },
 "nbformat": 4,
 "nbformat_minor": 2
}
