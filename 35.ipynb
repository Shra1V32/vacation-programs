{
 "cells": [
  {
   "cell_type": "code",
   "execution_count": 23,
   "metadata": {},
   "outputs": [
    {
     "data": {
      "text/plain": [
       "['3', '2']"
      ]
     },
     "execution_count": 23,
     "metadata": {},
     "output_type": "execute_result"
    }
   ],
   "source": [
    "# Find the one digit to be removed to form palindrome ;if already\n",
    "# palindrome return -1\n",
    "\n",
    "def isPalindromePossible(a):\n",
    "    a = str(a)\n",
    "    k = []\n",
    "    l = []\n",
    "    for i,j in zip(a,a[::-1]):\n",
    "        if i==j:\n",
    "            k.append(i)\n",
    "        else:\n",
    "            l.append(i)\n",
    "    if len(k) == len(a):\n",
    "        return -1\n",
    "    elif len(k)+2 == len(a):\n",
    "        return l\n",
    "    else:\n",
    "        return False\n",
    "\n",
    "isPalindromePossible(1321)"
   ]
  },
  {
   "cell_type": "code",
   "execution_count": null,
   "metadata": {},
   "outputs": [],
   "source": []
  }
 ],
 "metadata": {
  "kernelspec": {
   "display_name": "Python 3.10.6 64-bit",
   "language": "python",
   "name": "python3"
  },
  "language_info": {
   "codemirror_mode": {
    "name": "ipython",
    "version": 3
   },
   "file_extension": ".py",
   "mimetype": "text/x-python",
   "name": "python",
   "nbconvert_exporter": "python",
   "pygments_lexer": "ipython3",
   "version": "3.10.6"
  },
  "orig_nbformat": 4,
  "vscode": {
   "interpreter": {
    "hash": "e7370f93d1d0cde622a1f8e1c04877d8463912d04d973331ad4851f04de6915a"
   }
  }
 },
 "nbformat": 4,
 "nbformat_minor": 2
}
