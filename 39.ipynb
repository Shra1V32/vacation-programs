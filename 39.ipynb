{
 "cells": [
  {
   "cell_type": "code",
   "execution_count": 26,
   "metadata": {},
   "outputs": [
    {
     "name": "stdout",
     "output_type": "stream",
     "text": [
      "3\n"
     ]
    }
   ],
   "source": [
    "# Find result after alternate add-sub on N\n",
    "# i/p: n=6 o/p: opt 1 opt 2\n",
    "# opt 1: n-(n-1)+(n-2)-(n-3)+…….1\n",
    "# opt 2:n+(n-1)-(n-2)+(n-3)-………1\n",
    "n = 6\n",
    "sum1 = 0\n",
    "sum2 = 0\n",
    "for i in range(n, 0, -1):\n",
    "    if i % 2 == 0 and i!=n:\n",
    "        # perform add\n",
    "        sum1 = sum1 - i\n",
    "    else:\n",
    "        # perform subtraction\n",
    "        sum1 = sum1 + i\n",
    "# 6+5-4+3-2+1\n",
    "# 6-5+4-3+2-1\n",
    "for i in range(n, 0, -1):\n",
    "    if i % 2 == 0 or i==n:\n",
    "        # perform add\n",
    "        sum2 = sum2 + i\n",
    "    else:\n",
    "        # perform subtraction\n",
    "        sum2 = sum2 - i\n",
    "print(abs(sum2))\n"
   ]
  },
  {
   "cell_type": "code",
   "execution_count": null,
   "metadata": {},
   "outputs": [],
   "source": []
  },
  {
   "cell_type": "code",
   "execution_count": null,
   "metadata": {},
   "outputs": [],
   "source": []
  }
 ],
 "metadata": {
  "kernelspec": {
   "display_name": "Python 3.10.6 64-bit",
   "language": "python",
   "name": "python3"
  },
  "language_info": {
   "codemirror_mode": {
    "name": "ipython",
    "version": 3
   },
   "file_extension": ".py",
   "mimetype": "text/x-python",
   "name": "python",
   "nbconvert_exporter": "python",
   "pygments_lexer": "ipython3",
   "version": "3.10.6"
  },
  "orig_nbformat": 4,
  "vscode": {
   "interpreter": {
    "hash": "e7370f93d1d0cde622a1f8e1c04877d8463912d04d973331ad4851f04de6915a"
   }
  }
 },
 "nbformat": 4,
 "nbformat_minor": 2
}
