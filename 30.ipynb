{
 "cells": [
  {
   "cell_type": "code",
   "execution_count": 42,
   "metadata": {},
   "outputs": [
    {
     "data": {
      "text/plain": [
       "'2595'"
      ]
     },
     "execution_count": 42,
     "metadata": {},
     "output_type": "execute_result"
    }
   ],
   "source": [
    "\n",
    "import random\n",
    "\n",
    "\n",
    "def gen_num(x, y, z):\n",
    "    x, y, z = str(x), str(y), str(z)\n",
    "    all_digits = []\n",
    "    generated = []\n",
    "    for i,j,k in zip(x,y,z):\n",
    "        all_digits.append(i)\n",
    "        all_digits.append(j)\n",
    "        all_digits.append(k)\n",
    "    indexes = []\n",
    "    for i in range(0,len(all_digits)):\n",
    "        indexes.append(i)\n",
    "    for i in range(0,4):\n",
    "        gen_num = random.randint(0,len(all_digits)-1)\n",
    "        generated.append(all_digits[gen_num])\n",
    "        del all_digits[gen_num]\n",
    "    return \"\".join(generated)\n",
    "\n",
    "gen_num(125,457,896)"
   ]
  },
  {
   "cell_type": "markdown",
   "metadata": {},
   "source": []
  },
  {
   "cell_type": "markdown",
   "metadata": {},
   "source": []
  }
 ],
 "metadata": {
  "kernelspec": {
   "display_name": "Python 3.10.6 64-bit",
   "language": "python",
   "name": "python3"
  },
  "language_info": {
   "codemirror_mode": {
    "name": "ipython",
    "version": 3
   },
   "file_extension": ".py",
   "mimetype": "text/x-python",
   "name": "python",
   "nbconvert_exporter": "python",
   "pygments_lexer": "ipython3",
   "version": "3.10.6"
  },
  "orig_nbformat": 4,
  "vscode": {
   "interpreter": {
    "hash": "e7370f93d1d0cde622a1f8e1c04877d8463912d04d973331ad4851f04de6915a"
   }
  }
 },
 "nbformat": 4,
 "nbformat_minor": 2
}
