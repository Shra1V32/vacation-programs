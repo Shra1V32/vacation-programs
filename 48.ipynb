{
 "cells": [
  {
   "cell_type": "code",
   "execution_count": 10,
   "metadata": {},
   "outputs": [
    {
     "data": {
      "text/plain": [
       "True"
      ]
     },
     "execution_count": 10,
     "metadata": {},
     "output_type": "execute_result"
    }
   ],
   "source": [
    "# 12\n",
    "# 12 has factors 1,2,3,4,6 \n",
    "# Sum of its all factors 6+4+3+2+1 = 16\n",
    "# 16 > 12\n",
    "# It is an Abundant Number\n",
    "\n",
    "def FindFactors(num):\n",
    "    k = []\n",
    "    sum = 0\n",
    "    for i in range(1,num):\n",
    "        if num%i == 0:\n",
    "            k.append(i)\n",
    "    for i in k:\n",
    "        sum = sum+i\n",
    "    if sum>num:\n",
    "        return True\n",
    "    else:\n",
    "        return False\n",
    "\n",
    "FindFactors(12)"
   ]
  },
  {
   "cell_type": "code",
   "execution_count": null,
   "metadata": {},
   "outputs": [],
   "source": []
  }
 ],
 "metadata": {
  "kernelspec": {
   "display_name": "Python 3.10.6 64-bit",
   "language": "python",
   "name": "python3"
  },
  "language_info": {
   "codemirror_mode": {
    "name": "ipython",
    "version": 3
   },
   "file_extension": ".py",
   "mimetype": "text/x-python",
   "name": "python",
   "nbconvert_exporter": "python",
   "pygments_lexer": "ipython3",
   "version": "3.10.6"
  },
  "orig_nbformat": 4,
  "vscode": {
   "interpreter": {
    "hash": "e7370f93d1d0cde622a1f8e1c04877d8463912d04d973331ad4851f04de6915a"
   }
  }
 },
 "nbformat": 4,
 "nbformat_minor": 2
}
