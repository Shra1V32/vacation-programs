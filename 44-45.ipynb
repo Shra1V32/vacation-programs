{
 "cells": [
  {
   "cell_type": "code",
   "execution_count": 31,
   "metadata": {},
   "outputs": [
    {
     "name": "stdout",
     "output_type": "stream",
     "text": [
      "10\n"
     ]
    },
    {
     "data": {
      "text/plain": [
       "True"
      ]
     },
     "execution_count": 31,
     "metadata": {},
     "output_type": "execute_result"
    }
   ],
   "source": [
    "def isHappyNumber(num):\n",
    "    num = str(num)\n",
    "    sum = 0\n",
    "    # len(num) here is used for how many times the sum of the digits must be calculated recursively\n",
    "    while 1!=0:\n",
    "        # We must initialize sum as zero\n",
    "        # Else the same value of sum will be used recursively\n",
    "        # We don't want that\n",
    "        sum = 0\n",
    "        for j in num:\n",
    "            sum = sum+(int(j)**2)\n",
    "        # Set num as sum, As we're going to recursively find the sum of the digits of the number\n",
    "        num = str(sum)\n",
    "        if len(num) == 1:\n",
    "            break\n",
    "        #print(sum)\n",
    "    if sum != 1:\n",
    "        return False\n",
    "    else:\n",
    "        # print(\"A Happy number\")\n",
    "        return True\n",
    "\n",
    "\n",
    "k = []\n",
    "for i in range(1,10):\n",
    "    if isHappyNumber(i) == True:\n",
    "        k.append(i)\n",
    "\n",
    "print(k)\n"
   ]
  },
  {
   "cell_type": "code",
   "execution_count": null,
   "metadata": {},
   "outputs": [],
   "source": []
  }
 ],
 "metadata": {
  "kernelspec": {
   "display_name": "Python 3.10.6 64-bit",
   "language": "python",
   "name": "python3"
  },
  "language_info": {
   "codemirror_mode": {
    "name": "ipython",
    "version": 3
   },
   "file_extension": ".py",
   "mimetype": "text/x-python",
   "name": "python",
   "nbconvert_exporter": "python",
   "pygments_lexer": "ipython3",
   "version": "3.10.6"
  },
  "orig_nbformat": 4,
  "vscode": {
   "interpreter": {
    "hash": "e7370f93d1d0cde622a1f8e1c04877d8463912d04d973331ad4851f04de6915a"
   }
  }
 },
 "nbformat": 4,
 "nbformat_minor": 2
}
