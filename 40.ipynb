{
 "cells": [
  {
   "cell_type": "code",
   "execution_count": 40,
   "metadata": {},
   "outputs": [
    {
     "data": {
      "text/plain": [
       "1020"
      ]
     },
     "execution_count": 40,
     "metadata": {},
     "output_type": "execute_result"
    }
   ],
   "source": [
    "def PasswordCheck(n):\n",
    "    n = str(n)\n",
    "    k = []\n",
    "    for i in n:\n",
    "        k.append(n.count(i))\n",
    "    tmp = k[0]\n",
    "    for i in k:\n",
    "        if i!=tmp:\n",
    "            isStable = False\n",
    "            break\n",
    "        else:\n",
    "            isStable = True\n",
    "        tmp = i\n",
    "\n",
    "    return isStable\n",
    "\n",
    "def addUnstable():\n",
    "    sum = 0\n",
    "    n = []\n",
    "    k = int(input(\"How many numbers: \"))\n",
    "    for i in range(0,k):\n",
    "        n.append(int(input()))\n",
    "    for i in n:\n",
    "        if PasswordCheck(i) == False:\n",
    "            sum = sum+i\n",
    "    return sum\n",
    "    \n",
    "addUnstable()\n"
   ]
  },
  {
   "cell_type": "code",
   "execution_count": 35,
   "metadata": {},
   "outputs": [
    {
     "name": "stdout",
     "output_type": "stream",
     "text": [
      "8\n",
      "8\n",
      "9\n",
      "False\n"
     ]
    }
   ],
   "source": [
    "\n"
   ]
  },
  {
   "cell_type": "code",
   "execution_count": null,
   "metadata": {},
   "outputs": [],
   "source": []
  }
 ],
 "metadata": {
  "kernelspec": {
   "display_name": "Python 3.10.6 64-bit",
   "language": "python",
   "name": "python3"
  },
  "language_info": {
   "codemirror_mode": {
    "name": "ipython",
    "version": 3
   },
   "file_extension": ".py",
   "mimetype": "text/x-python",
   "name": "python",
   "nbconvert_exporter": "python",
   "pygments_lexer": "ipython3",
   "version": "3.10.6"
  },
  "orig_nbformat": 4,
  "vscode": {
   "interpreter": {
    "hash": "e7370f93d1d0cde622a1f8e1c04877d8463912d04d973331ad4851f04de6915a"
   }
  }
 },
 "nbformat": 4,
 "nbformat_minor": 2
}
