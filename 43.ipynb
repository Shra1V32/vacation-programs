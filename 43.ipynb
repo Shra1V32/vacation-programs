{
 "cells": [
  {
   "cell_type": "code",
   "execution_count": 3,
   "metadata": {},
   "outputs": [
    {
     "data": {
      "text/plain": [
       "16.0"
      ]
     },
     "execution_count": 3,
     "metadata": {},
     "output_type": "execute_result"
    }
   ],
   "source": [
    "# If product of 2 numbers and sum of their squares is given. Find the sum\n",
    "# of 2 numbers\n",
    "import math\n",
    "\n",
    "def findSumOfTwoNumbers(product,sumOfSquares):\n",
    "    # let a * b = product\n",
    "    # a^2 + b^2 = sum\n",
    "    # a^2 + b^2 + 2.a*b = (a+b)^2\n",
    "    # root((a+b)^2) = our sum\n",
    "    whole_squared = sumOfSquares + 2*product\n",
    "    sumOfTwoNumbers = math.sqrt(whole_squared)\n",
    "    return sumOfTwoNumbers\n",
    "\n",
    "findSumOfTwoNumbers(64,128)"
   ]
  },
  {
   "cell_type": "code",
   "execution_count": null,
   "metadata": {},
   "outputs": [],
   "source": []
  }
 ],
 "metadata": {
  "kernelspec": {
   "display_name": "Python 3.10.6 64-bit",
   "language": "python",
   "name": "python3"
  },
  "language_info": {
   "codemirror_mode": {
    "name": "ipython",
    "version": 3
   },
   "file_extension": ".py",
   "mimetype": "text/x-python",
   "name": "python",
   "nbconvert_exporter": "python",
   "pygments_lexer": "ipython3",
   "version": "3.10.6"
  },
  "orig_nbformat": 4,
  "vscode": {
   "interpreter": {
    "hash": "e7370f93d1d0cde622a1f8e1c04877d8463912d04d973331ad4851f04de6915a"
   }
  }
 },
 "nbformat": 4,
 "nbformat_minor": 2
}
