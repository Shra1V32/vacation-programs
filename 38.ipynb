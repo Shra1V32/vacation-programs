{
 "cells": [
  {
   "cell_type": "code",
   "execution_count": 2,
   "metadata": {},
   "outputs": [
    {
     "name": "stdout",
     "output_type": "stream",
     "text": [
      "2\n",
      "[1, 3, 5, 7]\n"
     ]
    }
   ],
   "source": [
    "def findSeries(l):\n",
    "    diff = (l[0] + l[len(l)-1])//len(l)\n",
    "    print(diff)\n",
    "    for i in range(1,len(l)):\n",
    "        if abs(l[i] - l[i-1]) != diff:\n",
    "            print(\"They are not in series\")\n",
    "            return 0\n",
    "    l.append(l[len(l)-1]+diff)\n",
    "    return l\n",
    "\n",
    "print(findSeries([1,3,5]))"
   ]
  },
  {
   "cell_type": "code",
   "execution_count": null,
   "metadata": {},
   "outputs": [],
   "source": []
  }
 ],
 "metadata": {
  "kernelspec": {
   "display_name": "Python 3.10.6 64-bit",
   "language": "python",
   "name": "python3"
  },
  "language_info": {
   "codemirror_mode": {
    "name": "ipython",
    "version": 3
   },
   "file_extension": ".py",
   "mimetype": "text/x-python",
   "name": "python",
   "nbconvert_exporter": "python",
   "pygments_lexer": "ipython3",
   "version": "3.10.6"
  },
  "orig_nbformat": 4,
  "vscode": {
   "interpreter": {
    "hash": "e7370f93d1d0cde622a1f8e1c04877d8463912d04d973331ad4851f04de6915a"
   }
  }
 },
 "nbformat": 4,
 "nbformat_minor": 2
}
